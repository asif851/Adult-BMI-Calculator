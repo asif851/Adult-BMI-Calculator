{
 "cells": [
  {
   "cell_type": "code",
   "execution_count": 14,
   "id": "b70095a6",
   "metadata": {},
   "outputs": [
    {
     "name": "stdout",
     "output_type": "stream",
     "text": [
      "Input Height(cm)?155\n",
      "Input Weight (kg)?54\n",
      "BMI score is 22.48\n",
      "Healthy\n"
     ]
    }
   ],
   "source": [
    "#adult bmi calculator\n",
    "\n",
    "\n",
    "try:\n",
    "    ##code block where exception can occur\n",
    "    \n",
    "    cm_height=float(input(\"Input Height(cm)?\"))\n",
    "    if cm_height>0:\n",
    "        m_height=cm_height/100\n",
    "    else:\n",
    "        print(\"Invalid Input\")\n",
    "\n",
    "    weight=float(input(\"Input Weight (kg)?\"))\n",
    "    if weight>0:\n",
    "        \n",
    "        bmi=weight/(m_height*m_height)  # BMI = kg/m^2 \n",
    "        print(\"BMI score is\",\"%.2f\" % bmi)\n",
    "    else:\n",
    "        print(\"Invalid Input\")\n",
    "    \n",
    "except ValueError :\n",
    "    print(\"Please provide numerical value\")\n",
    "\n",
    "except TypeError:\n",
    "    print(\"Try to make the datatype similar\")\n",
    "except Exception as ex:\n",
    "    print(ex)\n",
    "\n",
    "    \n",
    "if bmi<18.5:\n",
    "    print(\"underweight\")\n",
    "if bmi>=18.8 and bmi<=24.9:     \n",
    "    print(\"Healthy\")\n",
    "if bmi>=25 and bmi<=24.9:\n",
    "    print(\"ovrweight\")\n",
    "if bmi>30:\n",
    "    print(\"obese\")\n",
    "\n"
   ]
  },
  {
   "cell_type": "code",
   "execution_count": 5,
   "id": "cd624c9e",
   "metadata": {},
   "outputs": [
    {
     "name": "stdout",
     "output_type": "stream",
     "text": [
      "Healthy\n"
     ]
    }
   ],
   "source": [
    "\n",
    "\n"
   ]
  },
  {
   "cell_type": "code",
   "execution_count": null,
   "id": "ad438dd9",
   "metadata": {},
   "outputs": [],
   "source": []
  }
 ],
 "metadata": {
  "kernelspec": {
   "display_name": "Python 3 (ipykernel)",
   "language": "python",
   "name": "python3"
  },
  "language_info": {
   "codemirror_mode": {
    "name": "ipython",
    "version": 3
   },
   "file_extension": ".py",
   "mimetype": "text/x-python",
   "name": "python",
   "nbconvert_exporter": "python",
   "pygments_lexer": "ipython3",
   "version": "3.9.6"
  }
 },
 "nbformat": 4,
 "nbformat_minor": 5
}
